{
 "cells": [
  {
   "cell_type": "code",
   "execution_count": 1,
   "id": "c2fbcdde-2e8e-41d7-94e0-608f25f7d001",
   "metadata": {},
   "outputs": [
    {
     "name": "stdout",
     "output_type": "stream",
     "text": [
      "movies dataset:\n",
      "   movieId                               title  \\\n",
      "0        1                    Toy Story (1995)   \n",
      "1        2                      Jumanji (1995)   \n",
      "2        3             Grumpier Old Men (1995)   \n",
      "3        4            Waiting to Exhale (1995)   \n",
      "4        5  Father of the Bride Part II (1995)   \n",
      "\n",
      "                                        genres  \n",
      "0  Adventure|Animation|Children|Comedy|Fantasy  \n",
      "1                   Adventure|Children|Fantasy  \n",
      "2                               Comedy|Romance  \n",
      "3                         Comedy|Drama|Romance  \n",
      "4                                       Comedy  \n",
      "\n",
      " rating dateset:\n",
      "   userId  movieId  rating  timestamp\n",
      "0       1        1     4.0  964982703\n",
      "1       1        3     4.0  964981247\n",
      "2       1        6     4.0  964982224\n",
      "3       1       47     5.0  964983815\n",
      "4       1       50     5.0  964982931\n"
     ]
    }
   ],
   "source": [
    "import pandas as pd\n",
    "movies=pd.read_csv(r\"C:\\project news\\movies.csv\")\n",
    "print(\"movies dataset:\")\n",
    "print(movies.head())\n",
    "rating=pd.read_csv(r\"C:\\project news\\ratings.csv\")\n",
    "print(\"\\n rating dateset:\")\n",
    "print(rating.head())"
   ]
  },
  {
   "cell_type": "code",
   "execution_count": 2,
   "id": "06df20f7-f7bc-412b-816e-166764a1472a",
   "metadata": {},
   "outputs": [
    {
     "name": "stdout",
     "output_type": "stream",
     "text": [
      "Missing values int movies dataset:\n",
      " movieId    0\n",
      "title      0\n",
      "genres     0\n",
      "dtype: int64\n",
      "\n",
      "Missing values in ratings dataset:\n",
      " userId       0\n",
      "movieId      0\n",
      "rating       0\n",
      "timestamp    0\n",
      "dtype: int64\n",
      "\n",
      "Merged Dataset:\n",
      "   userId  movieId  rating                        title  \\\n",
      "0       1        1     4.0             Toy Story (1995)   \n",
      "1       1        3     4.0      Grumpier Old Men (1995)   \n",
      "2       1        6     4.0                  Heat (1995)   \n",
      "3       1       47     5.0  Seven (a.k.a. Se7en) (1995)   \n",
      "4       1       50     5.0   Usual Suspects, The (1995)   \n",
      "\n",
      "                                        genres  \n",
      "0  Adventure|Animation|Children|Comedy|Fantasy  \n",
      "1                               Comedy|Romance  \n",
      "2                        Action|Crime|Thriller  \n",
      "3                             Mystery|Thriller  \n",
      "4                       Crime|Mystery|Thriller  \n",
      "\n",
      "Top 10 Movies with most rating:\n",
      " title\n",
      "Forrest Gump (1994)                          329\n",
      "Shawshank Redemption, The (1994)             317\n",
      "Pulp Fiction (1994)                          307\n",
      "Silence of the Lambs, The (1991)             279\n",
      "Matrix, The (1999)                           278\n",
      "Star Wars: Episode IV - A New Hope (1977)    251\n",
      "Jurassic Park (1993)                         238\n",
      "Braveheart (1995)                            237\n",
      "Terminator 2: Judgment Day (1991)            224\n",
      "Schindler's List (1993)                      220\n",
      "Name: count, dtype: int64\n"
     ]
    }
   ],
   "source": [
    "print(\"Missing values int movies dataset:\\n\",movies.isnull().sum())\n",
    "print(\"\\nMissing values in ratings dataset:\\n\",rating.isnull().sum())\n",
    "ratings = rating.drop(columns=['timestamp'])\n",
    "movie_rating = pd.merge(ratings, movies, on=\"movieId\")\n",
    "print(\"\\nMerged Dataset:\")\n",
    "print(movie_rating.head())\n",
    "movie_count = movie_rating['title'].value_counts()\n",
    "print(\"\\nTop 10 Movies with most rating:\\n\",movie_count.head(10))\n"
   ]
  },
  {
   "cell_type": "code",
   "execution_count": 3,
   "id": "b48cd37a-8fc4-4157-99f8-9952c93a11e7",
   "metadata": {},
   "outputs": [],
   "source": [
    "from sklearn.feature_extraction.text import TfidfVectorizer\n",
    "from sklearn.metrics.pairwise import cosine_similarity"
   ]
  },
  {
   "cell_type": "code",
   "execution_count": 4,
   "id": "c0987c51-ad4c-47fd-90cd-4a09070792c5",
   "metadata": {},
   "outputs": [],
   "source": [
    "tfidf=TfidfVectorizer(stop_words='english')\n",
    "tfidf_matrix=tfidf.fit_transform(movies['genres'].fillna(''))\n",
    "cosine_sim=cosine_similarity(tfidf_matrix,tfidf_matrix)\n"
   ]
  },
  {
   "cell_type": "code",
   "execution_count": 5,
   "id": "1e75895c-9b7c-4c49-83ce-953062fc7b67",
   "metadata": {},
   "outputs": [
    {
     "name": "stdout",
     "output_type": "stream",
     "text": [
      "Recommended Movies for 'toy Story (1995)':\n",
      " 1706                                          antz (1998)\n",
      "2355                                   toy story 2 (1999)\n",
      "2809       adventures of rocky and bullwinkle, the (2000)\n",
      "3000                     emperor's new groove, the (2000)\n",
      "3568                                monsters, inc. (2001)\n",
      "6194                                     wild, the (2006)\n",
      "6486                               shrek the third (2007)\n",
      "6948                       tale of despereaux, the (2008)\n",
      "7760    asterix and the vikings (astérix et les viking...\n",
      "8219                                         turbo (2013)\n",
      "Name: title, dtype: object\n"
     ]
    }
   ],
   "source": [
    "def recommend_movies(title,movies_df,cosine_sim):\n",
    "    \n",
    "    movies_df['title'] = movies_df['title'].str.strip().str.lower()\n",
    "    title = title.strip().lower()\n",
    "    if title not in movies_df['title'].values:\n",
    "        print(f\"Error: '{title}' not found in dataset. Try another movie.\")\n",
    "        return []\n",
    "    indices= pd.Series(movies_df.index,index=movies_df['title']).drop_duplicates()\n",
    "    idx=indices[title]\n",
    "    sim_scores=list(enumerate(cosine_sim[idx]))\n",
    "    sim_scores=sorted(sim_scores,key=lambda x:x[1],reverse=True)\n",
    "    sim_scores=sim_scores[1:11]\n",
    "    movies_indices=[i[0] for i in sim_scores]\n",
    "    return movies_df['title'].iloc[movies_indices]\n",
    "print(\"Recommended Movies for 'toy Story (1995)':\\n\", recommend_movies('toy Story (1995)', movies, cosine_sim))"
   ]
  },
  {
   "cell_type": "code",
   "execution_count": 6,
   "id": "dc5f9bac-e42e-40ca-9e35-905e418e8a01",
   "metadata": {},
   "outputs": [
    {
     "name": "stdout",
     "output_type": "stream",
     "text": [
      "Recommended Movies for ' Tom and Huck (1995)':\n",
      " 119                  amazing panda adventure, the (1995)\n",
      "131                                        casper (1995)\n",
      "204    far from home: the adventures of yellow dog (1...\n",
      "421                                        lassie (1994)\n",
      "521      homeward bound ii: lost in san francisco (1996)\n",
      "580                                       flipper (1996)\n",
      "635                                        alaska (1996)\n",
      "642                  adventures of pinocchio, the (1996)\n",
      "751                                 fly away home (1996)\n",
      "775                         swiss family robinson (1960)\n",
      "Name: title, dtype: object\n"
     ]
    }
   ],
   "source": [
    "print(\"Recommended Movies for ' Tom and Huck (1995)':\\n\", recommend_movies(' Tom and Huck (1995)', movies, cosine_sim))\n"
   ]
  },
  {
   "cell_type": "code",
   "execution_count": 7,
   "id": "e94abb22-1d5d-44e4-8abb-dc4f7fcc4b94",
   "metadata": {},
   "outputs": [
    {
     "name": "stdout",
     "output_type": "stream",
     "text": [
      "0                       toy story (1995)\n",
      "1                         jumanji (1995)\n",
      "2                grumpier old men (1995)\n",
      "3               waiting to exhale (1995)\n",
      "4     father of the bride part ii (1995)\n",
      "5                            heat (1995)\n",
      "6                         sabrina (1995)\n",
      "7                    tom and huck (1995)\n",
      "8                    sudden death (1995)\n",
      "9                       goldeneye (1995)\n",
      "10        american president, the (1995)\n",
      "11    dracula: dead and loving it (1995)\n",
      "12                          balto (1995)\n",
      "13                          nixon (1995)\n",
      "14               cutthroat island (1995)\n",
      "Name: title, dtype: object\n"
     ]
    }
   ],
   "source": [
    "print(movies['title'].head(15)) \n"
   ]
  },
  {
   "cell_type": "code",
   "execution_count": 8,
   "id": "29315596-b5f4-4646-9d79-b77634b4715f",
   "metadata": {},
   "outputs": [
    {
     "name": "stdout",
     "output_type": "stream",
     "text": [
      "Error: 'bahubali(2015)' not found in dataset. Try another movie.\n",
      "Recommended Movies for ' bahubali(2015)':\n",
      " []\n"
     ]
    }
   ],
   "source": [
    "print(\"Recommended Movies for ' bahubali(2015)':\\n\", recommend_movies(' bahubali(2015)', movies, cosine_sim))\n"
   ]
  },
  {
   "cell_type": "code",
   "execution_count": 9,
   "id": "35ed5b7d-cb69-4103-bf53-30ab6619171c",
   "metadata": {},
   "outputs": [
    {
     "name": "stdout",
     "output_type": "stream",
     "text": [
      "Error: 'captain america' not found in dataset. Try another movie.\n",
      "Recommended Movies for ' captain america':\n",
      " []\n"
     ]
    }
   ],
   "source": [
    "print(\"Recommended Movies for ' captain america':\\n\", recommend_movies(' captain america', movies, cosine_sim))\n"
   ]
  },
  {
   "cell_type": "code",
   "execution_count": 10,
   "id": "5db111a8-ddf7-4b35-bb71-e07373f2867a",
   "metadata": {},
   "outputs": [
    {
     "name": "stdout",
     "output_type": "stream",
     "text": [
      "Recommended Movies for ' nixon (1995)':\n",
      " 25                       othello (1995)\n",
      "30               dangerous minds (1995)\n",
      "36      cry, the beloved country (1995)\n",
      "39                   restoration (1995)\n",
      "50                       georgia (1995)\n",
      "51         home for the holidays (1995)\n",
      "55            mr. holland's opus (1995)\n",
      "105     boys of st. vincent, the (1992)\n",
      "120      basketball diaries, the (1995)\n",
      "121    awfully big adventure, an (1995)\n",
      "Name: title, dtype: object\n"
     ]
    }
   ],
   "source": [
    "print(\"Recommended Movies for ' nixon (1995)':\\n\", recommend_movies(' nixon (1995)', movies, cosine_sim))\n"
   ]
  },
  {
   "cell_type": "code",
   "execution_count": 11,
   "id": "e1faeab2-5e02-4bdb-ba32-5877a3e6edef",
   "metadata": {},
   "outputs": [
    {
     "name": "stdout",
     "output_type": "stream",
     "text": [
      "libaries are okay\n"
     ]
    }
   ],
   "source": [
    "import pandas as pd\n",
    "import numpy as np\n",
    "from sklearn.decomposition import TruncatedSVD\n",
    "print(\"libaries are okay\")"
   ]
  },
  {
   "cell_type": "code",
   "execution_count": 12,
   "id": "38d35d99-fafc-4161-bb16-e49d8af00f12",
   "metadata": {},
   "outputs": [
    {
     "name": "stdout",
     "output_type": "stream",
     "text": [
      "rating matrix shape: (610, 9724)\n"
     ]
    }
   ],
   "source": [
    "ratings_matrix=ratings.pivot(index='userId',columns='movieId',values='rating')\n",
    "rating_matrix=ratings_matrix.fillna(0)\n",
    "print(\"rating matrix shape:\",rating_matrix.shape)"
   ]
  },
  {
   "cell_type": "code",
   "execution_count": 13,
   "id": "10b77f50-f069-4a56-a42f-bce90fc8113d",
   "metadata": {},
   "outputs": [],
   "source": [
    "ratings_df = pd.DataFrame(ratings_matrix)\n",
    "ratings_matrix = ratings_df.fillna(ratings_df.mean()).values\n",
    "user_mean=np.mean(ratings_matrix,axis=1).reshape(-1,1)\n",
    "ratings_matrix_normalized=ratings_matrix-user_mean"
   ]
  },
  {
   "cell_type": "code",
   "execution_count": 14,
   "id": "d5b4c1ae-e030-4317-9fcd-9d12b23cc885",
   "metadata": {},
   "outputs": [
    {
     "name": "stdout",
     "output_type": "stream",
     "text": [
      "SVD Transformed shape: (610, 500)\n"
     ]
    }
   ],
   "source": [
    "svd= TruncatedSVD(n_components=500,random_state=42)\n",
    "matrix_svd =svd.fit_transform(ratings_matrix)\n",
    "print(\"SVD Transformed shape:\",matrix_svd.shape)"
   ]
  },
  {
   "cell_type": "code",
   "execution_count": 15,
   "id": "eccfeea7-1d71-4e51-a6f8-987a6e3f56ab",
   "metadata": {},
   "outputs": [
    {
     "name": "stdout",
     "output_type": "stream",
     "text": [
      "Explained varience ratio: 0.991733017766278\n"
     ]
    }
   ],
   "source": [
    "print(\"Explained varience ratio:\",svd.explained_variance_ratio_.sum())"
   ]
  },
  {
   "cell_type": "code",
   "execution_count": 16,
   "id": "b8bbdac7-1457-4365-b592-3e57dbc78d82",
   "metadata": {},
   "outputs": [],
   "source": [
    "from sklearn.metrics.pairwise import cosine_similarity\n",
    "item_similarity=cosine_similarity(ratings_matrix_normalized.T).T\n",
    "user_similarity=cosine_similarity(ratings_matrix_normalized)"
   ]
  },
  {
   "cell_type": "code",
   "execution_count": 17,
   "id": "3d22c2f6-8377-4bf5-b127-f5515afd1a25",
   "metadata": {},
   "outputs": [],
   "source": [
    "def predict_ratings(similarity_matrix,ratings_matrix):\n",
    "    sum_of_similarities=np.array(np.abs(similarity_matrix).sum(axis=1)).reshape(-1,1)\n",
    "    predicted_ratings=similarity_matrix.dot(ratings_matrix)/sum_of_similarities\n",
    "    return predicted_ratings"
   ]
  },
  {
   "cell_type": "code",
   "execution_count": 18,
   "id": "0c93c902-ded1-4390-b124-0c35fcc3b57d",
   "metadata": {},
   "outputs": [
    {
     "name": "stdout",
     "output_type": "stream",
     "text": [
      "User-Based CF Predictions:\n",
      " [[ 0.6593288   0.1703368  -0.00228421 ...  0.23748994  0.23748994\n",
      "   0.73748994]\n",
      " [ 0.6592047   0.17023198 -0.00244189 ...  0.23749801  0.23749801\n",
      "   0.73749801]\n",
      " [ 0.65918251  0.17021049 -0.00245776 ...  0.23749983  0.23749983\n",
      "   0.73749983]\n",
      " ...\n",
      " [ 0.65873616  0.16988974 -0.00282341 ...  0.23750486  0.23750486\n",
      "   0.73750486]\n",
      " [ 0.65916282  0.17020958 -0.00245318 ...  0.23749882  0.23749882\n",
      "   0.73749882]\n",
      " [ 0.65953931  0.17040773 -0.00236451 ...  0.23748302  0.23748302\n",
      "   0.73748302]]\n",
      "Item-Based CF Predictions:\n",
      " [[ 0.72794357  0.72533704 -0.26463017 ...  0.72859878  0.72859878\n",
      "   0.72854123]\n",
      " [ 0.72148287  0.71804838 -0.31565898 ...  0.72249377  0.72249377\n",
      "   0.72239403]\n",
      " [ 0.71947632  0.71586279 -0.32223234 ...  0.72060305  0.72060305\n",
      "   0.72049092]\n",
      " ...\n",
      " [ 0.71903203  0.71312103 -0.43919538 ...  0.72139836  0.72139836\n",
      "   0.72126656]\n",
      " [ 0.72050511  0.71695258 -0.31807869 ...  0.72159771  0.72159771\n",
      "   0.72149467]\n",
      " [ 0.73439438  0.73164851 -0.3006821  ...  0.73439167  0.73439167\n",
      "   0.73436867]]\n"
     ]
    }
   ],
   "source": [
    "user_based_ratings = predict_ratings(user_similarity, ratings_matrix_normalized)\n",
    "print(\"User-Based CF Predictions:\\n\", user_based_ratings)\n",
    "item_based_ratings = predict_ratings(item_similarity, ratings_matrix_normalized.T).T\n",
    "print(\"Item-Based CF Predictions:\\n\", item_based_ratings)\n"
   ]
  },
  {
   "cell_type": "code",
   "execution_count": 19,
   "id": "c53084ea-2b23-470f-ad46-3bf1e12e8925",
   "metadata": {},
   "outputs": [
    {
     "name": "stdout",
     "output_type": "stream",
     "text": [
      "Hybrid Model Prediction:\n",
      " [[ 0.69363619  0.44783692 -0.13345719 ...  0.48304436  0.48304436\n",
      "   0.73301559]\n",
      " [ 0.69034378  0.44414018 -0.15905044 ...  0.47999589  0.47999589\n",
      "   0.72994602]\n",
      " [ 0.68932941  0.44303664 -0.16234505 ...  0.47905144  0.47905144\n",
      "   0.72899538]\n",
      " ...\n",
      " [ 0.6888841   0.44150539 -0.22100939 ...  0.47945161  0.47945161\n",
      "   0.72938571]\n",
      " [ 0.68983397  0.44358108 -0.16026594 ...  0.47954827  0.47954827\n",
      "   0.72949675]\n",
      " [ 0.69696684  0.45102812 -0.1515233  ...  0.48593735  0.48593735\n",
      "   0.73592585]]\n"
     ]
    }
   ],
   "source": [
    "alpha=0.5\n",
    "beta=0.5\n",
    "hybrid_ratings = alpha * user_based_ratings + beta *item_based_ratings\n",
    "print(\"Hybrid Model Prediction:\\n\",hybrid_ratings)"
   ]
  },
  {
   "cell_type": "code",
   "execution_count": 20,
   "id": "8dbe493f-323b-459f-bcdf-9d92870207c4",
   "metadata": {},
   "outputs": [],
   "source": [
    "def recommend_movies_hybrid(user_id, ratings_matrix, hybrid_ratings, movies, num_recommendations=5):\n",
    "    user_predictions = hybrid_ratings[user_id]\n",
    "    unrated_movies = np.where(ratings_matrix[user_id] == 0)[0]\n",
    "    recommended_movie_indices = unrated_movies[np.argsort(user_predictions[unrated_movies])[::-1]]\n",
    "    return movies.iloc[recommended_movie_indices[:num_recommendations]]\n"
   ]
  },
  {
   "cell_type": "code",
   "execution_count": 21,
   "id": "f87ce6b4-3dbc-4a4a-a837-1778c135b035",
   "metadata": {},
   "outputs": [
    {
     "name": "stdout",
     "output_type": "stream",
     "text": [
      "True\n",
      "[ 0.69177715  0.44549703 -0.15973164 ...  0.48135451  0.48135451\n",
      "  0.73130028]\n"
     ]
    }
   ],
   "source": [
    "user_id=6\n",
    "print(user_id in range(ratings_matrix.shape[0]))\n",
    "print(hybrid_ratings[user_id])\n"
   ]
  },
  {
   "cell_type": "code",
   "execution_count": 22,
   "id": "8996bf5b-de6c-43c4-8e5d-2624bb4edbd6",
   "metadata": {},
   "outputs": [
    {
     "name": "stdout",
     "output_type": "stream",
     "text": [
      "   movieId                               title  \\\n",
      "0        1                    toy story (1995)   \n",
      "1        2                      jumanji (1995)   \n",
      "2        3             grumpier old men (1995)   \n",
      "3        4            waiting to exhale (1995)   \n",
      "4        5  father of the bride part ii (1995)   \n",
      "\n",
      "                                        genres  \n",
      "0  Adventure|Animation|Children|Comedy|Fantasy  \n",
      "1                   Adventure|Children|Fantasy  \n",
      "2                               Comedy|Romance  \n",
      "3                         Comedy|Drama|Romance  \n",
      "4                                       Comedy  \n",
      "[ 1  2  3  4  5  6  7  8  9 10]\n"
     ]
    }
   ],
   "source": [
    "print(movies.head())\n",
    "print(ratings['userId'].unique()[:10])\n"
   ]
  },
  {
   "cell_type": "code",
   "execution_count": 23,
   "id": "fcf0774c-63d7-4e95-a894-774fab82ab5d",
   "metadata": {},
   "outputs": [
    {
     "name": "stdout",
     "output_type": "stream",
     "text": [
      "Recommended movie indices: [7117 8994 8967 8968 8940 8943 1310 8921 4759 8964]\n",
      "      movieId                                     title  \\\n",
      "7117    70994                       halloween ii (2009)   \n",
      "8994   139642                           southpaw (2015)   \n",
      "8967   137337                                amy (2015)   \n",
      "8968   137345                  that demon within (2014)   \n",
      "8940   136449             ghost in the shell 2.0 (2008)   \n",
      "8943   136503  tom and jerry: shiver me whiskers (2006)   \n",
      "1310     1757   fallen angels (duo luo tian shi) (1995)   \n",
      "8921   135815           the magnificent ruffians (1979)   \n",
      "4759     7085                 send me no flowers (1964)   \n",
      "8964   136912                   god loves caviar (2012)   \n",
      "\n",
      "                         genres  \n",
      "7117            Horror|Thriller  \n",
      "8994               Action|Drama  \n",
      "8967                Documentary  \n",
      "8968             Crime|Thriller  \n",
      "8940    Action|Animation|Sci-Fi  \n",
      "8943  Animation|Children|Comedy  \n",
      "1310              Drama|Romance  \n",
      "8921               Action|Drama  \n",
      "4759             Comedy|Romance  \n",
      "8964                  Adventure  \n"
     ]
    }
   ],
   "source": [
    "recommended_movie_indices = hybrid_ratings[user_id].argsort()[::-1][:10]\n",
    "print(\"Recommended movie indices:\", recommended_movie_indices)\n",
    "print(movies.iloc[recommended_movie_indices])\n"
   ]
  },
  {
   "cell_type": "code",
   "execution_count": null,
   "id": "334e3c3a-2463-4671-948c-0b42b6d54ffb",
   "metadata": {},
   "outputs": [],
   "source": []
  }
 ],
 "metadata": {
  "kernelspec": {
   "display_name": "Python 3 (ipykernel)",
   "language": "python",
   "name": "python3"
  },
  "language_info": {
   "codemirror_mode": {
    "name": "ipython",
    "version": 3
   },
   "file_extension": ".py",
   "mimetype": "text/x-python",
   "name": "python",
   "nbconvert_exporter": "python",
   "pygments_lexer": "ipython3",
   "version": "3.13.0"
  }
 },
 "nbformat": 4,
 "nbformat_minor": 5
}
